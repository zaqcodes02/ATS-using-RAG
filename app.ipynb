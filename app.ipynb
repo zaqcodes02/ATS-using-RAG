{
 "cells": [
  {
   "cell_type": "code",
   "execution_count": 13,
   "metadata": {},
   "outputs": [],
   "source": [
    "import os\n",
    "from langchain.document_loaders import PyPDFLoader\n",
    "from langchain_groq import ChatGroq\n",
    "from langchain.prompts import PromptTemplate\n",
    "from langchain.chains import LLMChain\n",
    "from dotenv import load_dotenv"
   ]
  },
  {
   "cell_type": "code",
   "execution_count": 3,
   "metadata": {},
   "outputs": [
    {
     "data": {
      "text/plain": [
       "True"
      ]
     },
     "execution_count": 3,
     "metadata": {},
     "output_type": "execute_result"
    }
   ],
   "source": [
    "load_dotenv()"
   ]
  },
  {
   "cell_type": "code",
   "execution_count": 4,
   "metadata": {},
   "outputs": [],
   "source": [
    "GROQ_API_KEY = os.getenv('GROQ_API_KEY')"
   ]
  },
  {
   "cell_type": "code",
   "execution_count": 5,
   "metadata": {},
   "outputs": [],
   "source": [
    "prompt = PromptTemplate.from_template(\n",
    "    \"\"\"\n",
    "    You are a helpful HR Assitant. I will give you the .pdf Resume or .docx Resume or .txt resumes. Now, you have to extract the following information:\n",
    "    1. Name\n",
    "    2. Contact\n",
    "    3. Educataion\n",
    "    4. Job Experience\n",
    "    5. Projects if available\n",
    "    You have to do extract these information if and only if required skillset matches to {job_description} and {text_from_file}\n",
    "    \"\"\"\n",
    ")"
   ]
  },
  {
   "cell_type": "code",
   "execution_count": null,
   "metadata": {},
   "outputs": [],
   "source": [
    "LLM = ChatGroq(groq_api_key=GROQ_API_KEY, \n",
    "               model_name = \"llama-3.1-8b-instant\")"
   ]
  },
  {
   "cell_type": "code",
   "execution_count": 9,
   "metadata": {},
   "outputs": [
    {
     "name": "stderr",
     "output_type": "stream",
     "text": [
      "<>:1: SyntaxWarning: invalid escape sequence '\\C'\n",
      "<>:1: SyntaxWarning: invalid escape sequence '\\C'\n",
      "C:\\Users\\zaq\\AppData\\Local\\Temp\\ipykernel_8992\\383803767.py:1: SyntaxWarning: invalid escape sequence '\\C'\n",
      "  pdf_path = \"H:\\ChatBots\\ATS-using-RAG\\Zubair_SD_Resume.pdf\"\n"
     ]
    }
   ],
   "source": [
    "pdf_path = \"H:\\ChatBots\\ATS-using-RAG\\Zubair_SD_Resume.pdf\""
   ]
  },
  {
   "cell_type": "code",
   "execution_count": 17,
   "metadata": {},
   "outputs": [],
   "source": [
    "loader = PyPDFLoader(pdf_path)\n",
    "text_from_file = loader.load()"
   ]
  },
  {
   "cell_type": "code",
   "execution_count": 10,
   "metadata": {},
   "outputs": [],
   "source": [
    "job_description = \"\"\"We are hiring the Computer Vision Engineer. The person should have the skills relevant to Ubuntu, Azure or AWS, tensorflow, keras, opencv, yolo. He must have completed BS in Computer Science or Engineering.\"\"\""
   ]
  },
  {
   "cell_type": "code",
   "execution_count": 20,
   "metadata": {},
   "outputs": [],
   "source": [
    "conversation = LLMChain(\n",
    "                llm=LLM,  # The Groq LangChain chat object initialized earlier.\n",
    "                prompt=prompt,  # The constructed prompt template.\n",
    "                verbose=True,   # TRUE Enables verbose output, which can be useful for debugging.\n",
    "                #memory=memory,  # The conversational memory object that stores and manages the conversation history.\n",
    "            )"
   ]
  },
  {
   "cell_type": "code",
   "execution_count": 22,
   "metadata": {},
   "outputs": [
    {
     "name": "stderr",
     "output_type": "stream",
     "text": [
      "C:\\Users\\zaq\\AppData\\Local\\Temp\\ipykernel_8992\\1008828838.py:1: LangChainDeprecationWarning: The method `Chain.run` was deprecated in langchain 0.1.0 and will be removed in 1.0. Use :meth:`~invoke` instead.\n",
      "  response = conversation.run(job_description = job_description, text_from_file = text_from_file)\n"
     ]
    },
    {
     "name": "stdout",
     "output_type": "stream",
     "text": [
      "\n",
      "\n",
      "\u001b[1m> Entering new LLMChain chain...\u001b[0m\n",
      "Prompt after formatting:\n",
      "\u001b[32;1m\u001b[1;3m\n",
      "    You are a helpful HR Assitant. I will give you the .pdf Resume or .docx Resume or .txt resumes. Now, you have to extract the following information:\n",
      "    1. Name\n",
      "    2. Contact\n",
      "    3. Educataion\n",
      "    4. Job Experience\n",
      "    5. Projects if available\n",
      "    You have to do extract these information if and only if required skillset matches to We are hiring the Computer Vision Engineer. The person should have the skills relevant to Ubuntu, Azure or AWS, tensorflow, keras, opencv, yolo. He must have completed BS in Computer Science or Engineering. and [Document(metadata={'source': 'H:\\\\ChatBots\\\\ATS-using-RAG\\\\Zubair_SD_Resume.pdf', 'page': 0, 'page_label': ''}, page_content='Zubair Ahmed\\nB17, Islamabad | iamzubairahmed02@gmail.com | +92 308 3572974 | linkedin.com/Zubair Ahmed\\nSummary\\nComputer Engineer graduate with a strong passion for acquiring knowledge in the domain of software\\ndevelopment and emerging technologies. My particular areas of interest are Python development, artificial\\nintelligence, and data science. In pursuit of enhancing my expertise in these domains, I am actively looking for\\nopportunities that will allow me to cultivate and excel in these fields.\\nEducation\\nBahria University Islamabad, Bachelor of Computer Engineering Sept 2020 – July 2024\\n• Coursework: Computer Architecture, Software Engineering, DSA, Databases, Computer Networks, Artificial\\nIntelligence, Image Processing\\nNUCES FAST - Islamabad, MS in Artificial Intelligence Aug 2024 – Present\\n• Coursework: Advance Artificial Intelligence, Mathematical Foundations for AI, Research Methodologies,\\nApplied Programming\\nExperience\\nAI Software Engineer Intern, Center of Excellence in AI, Bahria University , Isb July 2023 - Aug 2023\\n• Improved accuracy in contraband item detection.\\n• Analyzed and selected the best balanced publicly available dataset.\\n• Implemented image processing methods and deep learning models to enhance accuracy .\\n• Enhanced skills in computer vision algorithms, project management, and software engineering\\nIT Engineer Intern, Pioneer Cement Factory , Khushab, Punjab Aug 2022 - Sep 2022\\n• Designed a forms application and Mail Client Server Application using Java Swing\\n• Integrated Oracle Database with various applications\\n• Gained expertise in industrial networking, network topologies, and server configurations\\nPublications\\nA Novel Deep Learning Framework for Contraband Items Recognition in Smart\\nCity\\nFeb 2024\\nDr. Shehzad Khalid, Zubair Ahmed, Ayesha Noor, Ahmed Sedik, Waqar Asif\\nProjects\\nAI based Baggage Scanner System | Final Year Project\\n• Developed a system for automated detection and instance segmentation of contraband items in airport and\\nsmart cities security applications.\\n• Tools Used: Roboflow, OpenCV, Ultralytics, Flask, HTML, CSS, JavaScript\\nLungs Cancer dection using SVMs\\n• Developed a system for automated detection of lung diseases by feature extraction and giving those features to\\nsupport vectir machines for classification.\\n• Tools Used: Python\\nMailMarket Hub\\n• Developed a system for automated sending offers to customers which are registered in database using smtp\\nserver.\\n• Tools Used: Java, SMTP Server, Thunderbird'), Document(metadata={'source': 'H:\\\\ChatBots\\\\ATS-using-RAG\\\\Zubair_SD_Resume.pdf', 'page': 1, 'page_label': ''}, page_content='IoT Pulse Meter\\n• Developed an IoT based pulse meter for the help of doctors for live monitoring of heartbeat and oxygen levels\\nusing Firebase, ESP32, and Android Application.\\n• Tools Used: Embedded C, ESP32, Java for Android, XML\\nAutomated Soil Monitoring System\\n• Develop an Arduino based system to detect the moisture level in soil and pump was attached to moist the soil\\nfor certain amount of time.\\n• Tools Used: Embedded C, Arduino\\nMulti-Threaded Restaurant Management System\\n• Develop an C++ based application for restaurant management system using the concept of multi-threading.\\nThe chefs were divided into multiple threads and they were preparing the orders fo the customers.\\n• Tools Used: C++, Linux Vim Editor\\nTechnologies\\nLanguages: C++, C, Java, Python\\nDatabases: Oracle, SQL, SQLite, Firebase\\nTechnologies: Microsoft SQL Server, SQL Workbench, Vs Code, Java Swing, PyCharm, Jupyter Notebooks, Git and\\nGitHub, MS Office\\nAI Expertise:Tensorflow, Ultralytics, OpenCV, Scikit-Learn, NumPy , Pandas, NLTK\\nOS Expertise:Ubuntu, Windows')]\n",
      "    \u001b[0m\n",
      "\n",
      "\u001b[1m> Finished chain.\u001b[0m\n"
     ]
    }
   ],
   "source": [
    "response = conversation.run(job_description = job_description, text_from_file = text_from_file)"
   ]
  },
  {
   "cell_type": "code",
   "execution_count": 23,
   "metadata": {},
   "outputs": [
    {
     "name": "stdout",
     "output_type": "stream",
     "text": [
      "Based on the provided Resume, I can extract the following information:\n",
      "\n",
      "1. **Name:** Zubair Ahmed\n",
      "2. **Contact:**\n",
      "   - Phone: +92 308 3572974\n",
      "   - Email: iamzubairahmed02@gmail.com\n",
      "   - LinkedIn: linkedin.com/Zubair Ahmed\n",
      "   - Address: B17, Islamabad\n",
      "3. **Education:**\n",
      "   - Bachelor of Computer Engineering, Bahria University Islamabad (Sept 2020 – July 2024)\n",
      "     - Coursework: Computer Architecture, Software Engineering, DSA, Databases, Computer Networks, Artificial Intelligence, Image Processing\n",
      "   - MS in Artificial Intelligence, NU CES FAST - Islamabad (Aug 2024 – Present)\n",
      "     - Coursework: Advance Artificial Intelligence, Mathematical Foundations for AI, Research Methodologies, Applied Programming\n",
      "4. **Job Experience:**\n",
      "   - AI Software Engineer Intern, Center of Excellence in AI, Bahria University, Isb (July 2023 - Aug 2023)\n",
      "     - Improved accuracy in contraband item detection\n",
      "     - Analyzed and selected the best balanced publicly available dataset\n",
      "     - Implemented image processing methods and deep learning models to enhance accuracy\n",
      "     - Enhanced skills in computer vision algorithms, project management, and software engineering\n",
      "   - IT Engineer Intern, Pioneer Cement Factory, Khushab, Punjab (Aug 2022 - Sep 2022)\n",
      "     - Designed a forms application and Mail Client Server Application using Java Swing\n",
      "     - Integrated Oracle Database with various applications\n",
      "     - Gained expertise in industrial networking, network topologies, and server configurations\n",
      "5. **Projects:**\n",
      "   - AI based Baggage Scanner System (Final Year Project)\n",
      "     - Developed a system for automated detection and instance segmentation of contraband items in airport and smart cities security applications\n",
      "     - Tools Used: Roboflow, OpenCV, Ultralytics, Flask, HTML, CSS, JavaScript\n",
      "   - Lungs Cancer detection using SVMs\n",
      "     - Developed a system for automated detection of lung diseases by feature extraction and giving those features to support vector machines for classification\n",
      "     - Tools Used: Python\n",
      "   - MailMarket Hub\n",
      "     - Developed a system for automated sending offers to customers which are registered in database using smtp server\n",
      "     - Tools Used: Java, SMTP Server, Thunderbird\n",
      "   - IoT Pulse Meter\n",
      "     - Developed an IoT based pulse meter for the help of doctors for live monitoring of heartbeat and oxygen levels using Firebase, ESP32, and Android Application\n",
      "     - Tools Used: Embedded C, ESP32, Java for Android, XML\n",
      "   - Automated Soil Monitoring System\n",
      "     - Develop an Arduino based system to detect the moisture level in soil and pump was attached to moist the soil for certain amount of time\n",
      "     - Tools Used: Embedded C, Arduino\n",
      "   - Multi-Threaded Restaurant Management System\n",
      "     - Develop an C++ based application for restaurant management system using the concept of multi-threading\n",
      "     - Tools Used: C++, Linux Vim Editor\n",
      "\n",
      "**Required Skillset Match:**\n",
      "\n",
      "- Relevant skills: Ubuntu, TensorFlow, Keras, OpenCV, YOLO\n",
      "- Relevant education: BS in Computer Science or Engineering (Zubair Ahmed has completed Bachelor of Computer Engineering and is pursuing MS in Artificial Intelligence)\n",
      "- Relevant experience: AI Software Engineer Intern, Center of Excellence in AI, Bahria University, Isb (Zubair Ahmed has experience in implementing image processing methods and deep learning models using OpenCV and TensorFlow)\n",
      "\n",
      "Therefore, based on the provided Resume, Zubair Ahmed matches the required skillset for the Computer Vision Engineer position.\n"
     ]
    }
   ],
   "source": [
    "print(response)"
   ]
  },
  {
   "cell_type": "code",
   "execution_count": null,
   "metadata": {},
   "outputs": [],
   "source": []
  }
 ],
 "metadata": {
  "kernelspec": {
   "display_name": "atbot",
   "language": "python",
   "name": "python3"
  },
  "language_info": {
   "codemirror_mode": {
    "name": "ipython",
    "version": 3
   },
   "file_extension": ".py",
   "mimetype": "text/x-python",
   "name": "python",
   "nbconvert_exporter": "python",
   "pygments_lexer": "ipython3",
   "version": "3.12.8"
  }
 },
 "nbformat": 4,
 "nbformat_minor": 2
}
